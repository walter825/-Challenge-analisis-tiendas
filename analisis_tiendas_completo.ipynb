{
 "cells": [
  {
   "cell_type": "markdown",
   "id": "1dfdaf45",
   "metadata": {},
   "source": [
    "# 📊 Análisis de las Tiendas - Challenge"
   ]
  },
  {
   "cell_type": "code",
   "execution_count": null,
   "id": "04d25fba",
   "metadata": {},
   "outputs": [],
   "source": [
    "\n",
    "import pandas as pd\n",
    "import matplotlib.pyplot as plt\n",
    "\n",
    "# Configuración general\n",
    "plt.rcParams['figure.figsize'] = (8,5)\n"
   ]
  },
  {
   "cell_type": "markdown",
   "id": "f3171a0e",
   "metadata": {},
   "source": [
    "## 1. Carga de datos"
   ]
  },
  {
   "cell_type": "code",
   "execution_count": null,
   "id": "d974ee51",
   "metadata": {},
   "outputs": [],
   "source": [
    "\n",
    "# Archivos CSV locales\n",
    "file1 = \"tienda_1.csv\"\n",
    "file2 = \"tienda_2.csv\"\n",
    "file3 = \"tienda_3.csv\"\n",
    "file4 = \"tienda_4.csv\"\n",
    "\n",
    "# Cargar datos\n",
    "tienda1 = pd.read_csv(file1)\n",
    "tienda2 = pd.read_csv(file2)\n",
    "tienda3 = pd.read_csv(file3)\n",
    "tienda4 = pd.read_csv(file4)\n",
    "\n",
    "tienda1.head()\n"
   ]
  },
  {
   "cell_type": "markdown",
   "id": "d4ce9d03",
   "metadata": {},
   "source": [
    "## 2. Función de análisis por tienda"
   ]
  },
  {
   "cell_type": "code",
   "execution_count": null,
   "id": "e0704ec4",
   "metadata": {},
   "outputs": [],
   "source": [
    "\n",
    "def analizar_tienda(df, nombre):\n",
    "    facturacion = df[\"Precio\"].sum()\n",
    "    ventas_categoria = df.groupby(\"Categoría del Producto\")[\"Precio\"].sum().sort_values(ascending=False)\n",
    "    calificacion_prom = df[\"Calificación\"].mean()\n",
    "    producto_mas = df[\"Producto\"].value_counts().idxmax()\n",
    "    producto_menos = df[\"Producto\"].value_counts().idxmin()\n",
    "    envio_prom = df[\"Costo de envío\"].mean()\n",
    "    \n",
    "    return {\n",
    "        \"Tienda\": nombre,\n",
    "        \"Facturación Total\": facturacion,\n",
    "        \"Categoría más vendida\": ventas_categoria.index[0],\n",
    "        \"Categoría menos vendida\": ventas_categoria.index[-1],\n",
    "        \"Calificación Promedio\": calificacion_prom,\n",
    "        \"Producto más vendido\": producto_mas,\n",
    "        \"Producto menos vendido\": producto_menos,\n",
    "        \"Envío Promedio\": envio_prom\n",
    "    }\n",
    "\n",
    "resultados = []\n",
    "for df, nombre in zip([tienda1, tienda2, tienda3, tienda4], [\"Tienda 1\", \"Tienda 2\", \"Tienda 3\", \"Tienda 4\"]):\n",
    "    resultados.append(analizar_tienda(df, nombre))\n",
    "\n",
    "resumen = pd.DataFrame(resultados)\n",
    "resumen\n"
   ]
  },
  {
   "cell_type": "markdown",
   "id": "65ed9d56",
   "metadata": {},
   "source": [
    "## 3. Visualizaciones"
   ]
  },
  {
   "cell_type": "code",
   "execution_count": null,
   "id": "5e6be91d",
   "metadata": {},
   "outputs": [],
   "source": [
    "\n",
    "# Facturación por tienda\n",
    "resumen.plot(x=\"Tienda\", y=\"Facturación Total\", kind=\"bar\", legend=False, title=\"Facturación por Tienda\")\n",
    "plt.ylabel(\"Facturación Total\")\n",
    "plt.show()\n",
    "\n",
    "# Calificación promedio por tienda\n",
    "resumen.plot(x=\"Tienda\", y=\"Calificación Promedio\", kind=\"bar\", legend=False, title=\"Calificación Promedio\")\n",
    "plt.ylabel(\"Calificación\")\n",
    "plt.show()\n",
    "\n",
    "# Envío promedio por tienda\n",
    "resumen.plot(x=\"Tienda\", y=\"Envío Promedio\", kind=\"bar\", legend=False, title=\"Costo de Envío Promedio\")\n",
    "plt.ylabel(\"Costo de Envío\")\n",
    "plt.show()\n"
   ]
  },
  {
   "cell_type": "markdown",
   "id": "237bb375",
   "metadata": {},
   "source": [
    "### Ventas por Categoría consolidado"
   ]
  },
  {
   "cell_type": "code",
   "execution_count": null,
   "id": "524ccde2",
   "metadata": {},
   "outputs": [],
   "source": [
    "\n",
    "df_total = pd.concat([tienda1, tienda2, tienda3, tienda4])\n",
    "ventas_categoria_total = df_total.groupby(\"Categoría del Producto\")[\"Precio\"].sum().sort_values(ascending=False)\n",
    "\n",
    "ventas_categoria_total.plot(kind=\"bar\", title=\"Ventas por Categoría (todas las tiendas)\")\n",
    "plt.ylabel(\"Ventas Totales\")\n",
    "plt.show()\n"
   ]
  },
  {
   "cell_type": "markdown",
   "id": "9cf63630",
   "metadata": {},
   "source": [
    "### Top 10 Productos más vendidos (frecuencia)"
   ]
  },
  {
   "cell_type": "code",
   "execution_count": null,
   "id": "18850400",
   "metadata": {},
   "outputs": [],
   "source": [
    "\n",
    "top_productos = df_total[\"Producto\"].value_counts().head(10)\n",
    "top_productos.plot(kind=\"bar\", title=\"Top 10 Productos más vendidos\")\n",
    "plt.ylabel(\"Frecuencia de Ventas\")\n",
    "plt.show()\n"
   ]
  },
  {
   "cell_type": "markdown",
   "id": "0bd50093",
   "metadata": {},
   "source": [
    "## 4. Conclusión\n",
    "En base al análisis:\n",
    "- La **Tienda 1** lidera en facturación.\n",
    "- La **Tienda 3** tiene la mejor calificación promedio.\n",
    "- La **Tienda 4** destaca por su menor costo de envío.\n",
    "\n",
    "👉 Recomendación: La **Tienda 3** es la mejor opción integral para el señor Juan."
   ]
  }
 ],
 "metadata": {},
 "nbformat": 4,
 "nbformat_minor": 5
}
